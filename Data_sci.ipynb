{
  "nbformat": 4,
  "nbformat_minor": 0,
  "metadata": {
    "colab": {
      "name": "Data_sci.ipynb",
      "provenance": [],
      "authorship_tag": "ABX9TyPS+GnVO4tZoHYXTYnpCs/K",
      "include_colab_link": true
    },
    "kernelspec": {
      "name": "python3",
      "display_name": "Python 3"
    },
    "language_info": {
      "name": "python"
    }
  },
  "cells": [
    {
      "cell_type": "markdown",
      "metadata": {
        "id": "view-in-github",
        "colab_type": "text"
      },
      "source": [
        "<a href=\"https://colab.research.google.com/github/zaryabshehek/Data_sci.ipynb/blob/main/Data_sci.ipynb\" target=\"_parent\"><img src=\"https://colab.research.google.com/assets/colab-badge.svg\" alt=\"Open In Colab\"/></a>"
      ]
    },
    {
      "cell_type": "code",
      "execution_count": 2,
      "metadata": {
        "colab": {
          "base_uri": "https://localhost:8080/"
        },
        "id": "Oc34jQxmb0-t",
        "outputId": "97c384b9-3ad5-4e03-f5ec-171cb9dc6026"
      },
      "outputs": [
        {
          "output_type": "stream",
          "name": "stdout",
          "text": [
            "Twinkle, twinkle, little star,\n",
            "\t How I wonder what you are!\n",
            "\t\t Up above the world so high,\n",
            "\t\t Like a diamond in the sky.\n",
            " Twinkle, twinkle, title star,\n",
            "\t How I wonder what you are\n"
          ]
        }
      ],
      "source": [
        "\"\"\"Write a Python program to print the following string in a specific format (see the\n",
        "output).\n",
        "\n",
        "Twinkle, twinkle, little star,\n",
        "How I wonder what you are!\n",
        "Up above the world so high,\n",
        "Like a diamond in the sky.\n",
        "\n",
        "Twinkle, twinkle, little star,\n",
        "How I wonder what you are\"\"\"\n",
        "print(\"Twinkle, twinkle, little star,\\n\\t How I wonder what you are!\\n\\t\\t Up above the world so high,\\n\\t\\t Like a diamond in the sky.\\n Twinkle, twinkle, title star,\\n\\t How I wonder what you are\");\n"
      ]
    },
    {
      "cell_type": "code",
      "source": [
        "\"\"\"# Q2\n",
        "#Write a Python program to print the following string in a specific format (see the\n",
        "#output).\"\"\"\n",
        "\n",
        "import sys\n",
        "\n",
        "print(\"Python version I'm using right now'>>'\", sys.version);"
      ],
      "metadata": {
        "colab": {
          "base_uri": "https://localhost:8080/"
        },
        "id": "hZAxj0vOcR9n",
        "outputId": "2200b740-1083-4911-9055-243154786bd6"
      },
      "execution_count": 3,
      "outputs": [
        {
          "output_type": "stream",
          "name": "stdout",
          "text": [
            "Python version I'm using right now'>>' 3.7.12 (default, Sep 10 2021, 00:21:48) \n",
            "[GCC 7.5.0]\n"
          ]
        }
      ]
    },
    {
      "cell_type": "code",
      "source": [
        "\"\"\"# Q2\n",
        "#Write a Python program to print the following string in a specific format (see the\n",
        "#output).\"\"\"\n",
        "\n",
        "import sys\n",
        "\n",
        "print(\"Python version I'm using right now'>>'\", sys.version);"
      ],
      "metadata": {
        "colab": {
          "base_uri": "https://localhost:8080/"
        },
        "id": "_OmETS2AcZuA",
        "outputId": "9577756d-561d-4b40-f7e9-4d03d8fc60cb"
      },
      "execution_count": 4,
      "outputs": [
        {
          "output_type": "stream",
          "name": "stdout",
          "text": [
            "Python version I'm using right now'>>' 3.7.12 (default, Sep 10 2021, 00:21:48) \n",
            "[GCC 7.5.0]\n"
          ]
        }
      ]
    },
    {
      "cell_type": "code",
      "source": [
        "\"\"\"# Q4\n",
        "#Write a Python program which accepts the radius of a circle from the user and compute\n",
        "#the area.\"\"\"\n",
        "\n",
        "pi = 3.14;\n",
        "r = int(input(\"Enter the Value of Radius: \"));\n",
        "print(\"The Value of 'PI' is... \", pi);\n",
        "print(\"\\nThe Value of 'Radius' is\", r);\n",
        "print(\"\\nFormula of 'Area Of Circle' is... <A = pi * r^2>\");\n",
        "a = pi * r**2;\n",
        "print(\"\\nThe Area Of Circle is: \", a);"
      ],
      "metadata": {
        "colab": {
          "base_uri": "https://localhost:8080/"
        },
        "id": "tcm704aPcgBv",
        "outputId": "30a32e26-582d-479c-851e-c56fe5c47663"
      },
      "execution_count": 5,
      "outputs": [
        {
          "output_type": "stream",
          "name": "stdout",
          "text": [
            "Enter the Value of Radius: 76\n",
            "The Value of 'PI' is...  3.14\n",
            "\n",
            "The Value of 'Radius' is 76\n",
            "\n",
            "Formula of 'Area Of Circle' is... <A = pi * r^2>\n",
            "\n",
            "The Area Of Circle is:  18136.64\n"
          ]
        }
      ]
    },
    {
      "cell_type": "code",
      "source": [
        "\"\"\"# Q5\n",
        "#Write a Python program which accepts the user's first and last name and print them in\n",
        "#reverse order with a space between them.\"\"\"\n",
        "\n",
        "first_name = input(\"Enter First Name: \");\n",
        "last_name = input(\"\\nEnter Last Name: \");\n",
        "last_name_reversed = last_name[::-1];\n",
        "first_name_reversed = first_name[::-1];\n",
        "print(\"\\nName is in Simple Order: \",first_name +\" \"+ last_name);\n",
        "print(\"Name is in Reverse Order: \",last_name_reversed +\" \"+  first_name_reversed);"
      ],
      "metadata": {
        "colab": {
          "base_uri": "https://localhost:8080/"
        },
        "id": "UT26lY7DcpXv",
        "outputId": "f44ef873-2341-442a-8200-acd4909350a6"
      },
      "execution_count": 6,
      "outputs": [
        {
          "output_type": "stream",
          "name": "stdout",
          "text": [
            "Enter First Name: zaryab\n",
            "\n",
            "Enter Last Name: Shehek\n",
            "\n",
            "Name is in Simple Order:  zaryab Shehek\n",
            "Name is in Reverse Order:  kehehS bayraz\n"
          ]
        }
      ]
    },
    {
      "cell_type": "code",
      "source": [
        "\"\"\"# Q6\n",
        "#Write a python program which takes two inputs from user and print them addition\"\"\"\n",
        "\n",
        "first_number = int(input(\"Enter 1st Number: \"));\n",
        "second_number = int(input(\"\\nEnter 2nd Number: \"));\n",
        "addition = first_number + second_number;\n",
        "print(\"\\nThe Sum of Your Given Two Numbers Are: \",addition);"
      ],
      "metadata": {
        "colab": {
          "base_uri": "https://localhost:8080/"
        },
        "id": "4bgMap5Kc6QC",
        "outputId": "561636f8-0ddb-41a8-e6ce-7163abc7c31e"
      },
      "execution_count": 7,
      "outputs": [
        {
          "output_type": "stream",
          "name": "stdout",
          "text": [
            "Enter 1st Number: 12\n",
            "\n",
            "Enter 2nd Number: 23\n",
            "\n",
            "The Sum of Your Given Two Numbers Are:  35\n"
          ]
        }
      ]
    },
    {
      "cell_type": "code",
      "source": [
        "\"\"\"# Q3\n",
        "#Write a Python program to display the current date and time.\"\"\"\n",
        "\n",
        "import time\n",
        "\n",
        "localtime = time.asctime(time.localtime(time.time()));\n",
        "print(localtime);"
      ],
      "metadata": {
        "colab": {
          "base_uri": "https://localhost:8080/"
        },
        "id": "B12u811AdDgl",
        "outputId": "3fa8d291-546e-44ad-dac8-090be14bdce0"
      },
      "execution_count": 8,
      "outputs": [
        {
          "output_type": "stream",
          "name": "stdout",
          "text": [
            "Sun Jan  2 15:42:42 2022\n"
          ]
        }
      ]
    },
    {
      "cell_type": "code",
      "source": [
        "\"\"\"# Q3\n",
        "#Write a Python program to display the current date and time.\"\"\"\n",
        "\n",
        "import time\n",
        "\n",
        "localtime = time.asctime(time.localtime(time.time()));\n",
        "print(localtime);\n"
      ],
      "metadata": {
        "colab": {
          "base_uri": "https://localhost:8080/"
        },
        "id": "mWmBvaGFdSRl",
        "outputId": "001e5072-55a4-43d3-d850-1195049b7ef8"
      },
      "execution_count": 9,
      "outputs": [
        {
          "output_type": "stream",
          "name": "stdout",
          "text": [
            "Sun Jan  2 15:43:09 2022\n"
          ]
        }
      ]
    }
  ]
}